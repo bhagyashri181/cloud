{
 "cells": [
  {
   "cell_type": "code",
   "execution_count": null,
   "id": "bc1f7ead-d7d5-4765-acb2-c09e540b06fb",
   "metadata": {},
   "outputs": [],
   "source": [
    "# any python script is a module\n",
    "# import module\n",
    "# packages\n",
    "# install packages pip install-numpy\n"
   ]
  },
  {
   "cell_type": "code",
   "execution_count": 1,
   "id": "e4a34c05-495f-4dec-8c18-85f4e3f425ed",
   "metadata": {},
   "outputs": [
    {
     "name": "stdout",
     "output_type": "stream",
     "text": [
      "hello\\world\n"
     ]
    }
   ],
   "source": [
    "print(r\"hello\\world\") # string literal (or) raw string"
   ]
  },
  {
   "cell_type": "code",
   "execution_count": null,
   "id": "9b5a56ff-9a4f-42f2-8f0e-f0e367366205",
   "metadata": {},
   "outputs": [],
   "source": []
  }
 ],
 "metadata": {
  "kernelspec": {
   "display_name": "Python 3 (ipykernel)",
   "language": "python",
   "name": "python3"
  },
  "language_info": {
   "codemirror_mode": {
    "name": "ipython",
    "version": 3
   },
   "file_extension": ".py",
   "mimetype": "text/x-python",
   "name": "python",
   "nbconvert_exporter": "python",
   "pygments_lexer": "ipython3",
   "version": "3.11.9"
  }
 },
 "nbformat": 4,
 "nbformat_minor": 5
}
