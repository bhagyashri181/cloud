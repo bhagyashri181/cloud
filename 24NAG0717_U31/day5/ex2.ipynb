{
 "cells": [
  {
   "cell_type": "code",
   "execution_count": 1,
   "id": "980f19e0-62b1-4481-aa63-8225e540ca97",
   "metadata": {},
   "outputs": [],
   "source": [
    "fh = open(r\"C:\\Users\\Administrator\\Desktop\\24NAG0717_U31\\day5\\readme.txt\", \"r\")"
   ]
  },
  {
   "cell_type": "code",
   "execution_count": 2,
   "id": "ab21d4e3-1fd1-48c6-be5d-544e872b6134",
   "metadata": {},
   "outputs": [
    {
     "name": "stdout",
     "output_type": "stream",
     "text": [
      "C:\\Users\\Administrator\\Desktop\\24NAG0717_U31\\day5\\readme.txt\n"
     ]
    }
   ],
   "source": [
    "print(fh.name) # filename along with path"
   ]
  },
  {
   "cell_type": "code",
   "execution_count": 4,
   "id": "5fb260af-9995-4851-bb76-2f551d61c9e4",
   "metadata": {},
   "outputs": [
    {
     "name": "stdout",
     "output_type": "stream",
     "text": [
      "r\n"
     ]
    }
   ],
   "source": [
    "print(fh.mode)"
   ]
  },
  {
   "cell_type": "code",
   "execution_count": null,
   "id": "1f7dc993-236e-4003-a76e-95926eff76dd",
   "metadata": {},
   "outputs": [],
   "source": []
  }
 ],
 "metadata": {
  "kernelspec": {
   "display_name": "Python 3 (ipykernel)",
   "language": "python",
   "name": "python3"
  },
  "language_info": {
   "codemirror_mode": {
    "name": "ipython",
    "version": 3
   },
   "file_extension": ".py",
   "mimetype": "text/x-python",
   "name": "python",
   "nbconvert_exporter": "python",
   "pygments_lexer": "ipython3",
   "version": "3.11.9"
  }
 },
 "nbformat": 4,
 "nbformat_minor": 5
}
