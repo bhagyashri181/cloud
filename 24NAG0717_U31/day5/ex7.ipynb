{
 "cells": [
  {
   "cell_type": "code",
   "execution_count": 1,
   "id": "e25301e3-1ff1-4137-b8f2-2fec35495d66",
   "metadata": {},
   "outputs": [],
   "source": [
    "fh = open(r\"C:\\Users\\Administrator\\Desktop\\24NAG0717_U31\\day5\\readme.txt\", \"r\")"
   ]
  },
  {
   "cell_type": "code",
   "execution_count": 2,
   "id": "f84f0a62-7387-4f44-b8ad-6a4d840c2ada",
   "metadata": {},
   "outputs": [
    {
     "name": "stdout",
     "output_type": "stream",
     "text": [
      "Vim f\n",
      "5\n"
     ]
    }
   ],
   "source": [
    "print(fh.read(5)) # read list 5 bytes\n",
    "print(fh.tell()) # get the current cursor position"
   ]
  },
  {
   "cell_type": "code",
   "execution_count": 3,
   "id": "84f4e737-c9fd-42f5-9ebc-b5ede8cea9b8",
   "metadata": {},
   "outputs": [
    {
     "data": {
      "text/plain": [
       "10"
      ]
     },
     "execution_count": 3,
     "metadata": {},
     "output_type": "execute_result"
    }
   ],
   "source": [
    "# move to 10th byte and print next 5 bytes\n",
    "fh.seek(10,0) #get the current cursor position"
   ]
  },
  {
   "cell_type": "code",
   "execution_count": null,
   "id": "11eedcde-4df6-4057-969c-33a425b918c8",
   "metadata": {},
   "outputs": [],
   "source": [
    "print(fh.read(5))"
   ]
  },
  {
   "cell_type": "code",
   "execution_count": null,
   "id": "d72ffe85-a878-4e7d-94c5-45f7158f351a",
   "metadata": {},
   "outputs": [],
   "source": []
  }
 ],
 "metadata": {
  "kernelspec": {
   "display_name": "Python 3 (ipykernel)",
   "language": "python",
   "name": "python3"
  },
  "language_info": {
   "codemirror_mode": {
    "name": "ipython",
    "version": 3
   },
   "file_extension": ".py",
   "mimetype": "text/x-python",
   "name": "python",
   "nbconvert_exporter": "python",
   "pygments_lexer": "ipython3",
   "version": "3.11.9"
  }
 },
 "nbformat": 4,
 "nbformat_minor": 5
}
