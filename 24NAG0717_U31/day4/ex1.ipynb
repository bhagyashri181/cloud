{
 "cells": [
  {
   "cell_type": "code",
   "execution_count": 2,
   "id": "536ce89e-4525-4123-9eaa-dfdf37e4225b",
   "metadata": {},
   "outputs": [],
   "source": [
    "def factorial(n):\n",
    "    if n==1:\n",
    "        return 1\n",
    "    else:\n",
    "        return n * factorial(n-1)\n",
    "        "
   ]
  },
  {
   "cell_type": "code",
   "execution_count": 3,
   "id": "2e4dfccf-4ded-4cb8-bcfa-dd48c103d220",
   "metadata": {},
   "outputs": [],
   "source": [
    "fact = factorial(5)"
   ]
  },
  {
   "cell_type": "code",
   "execution_count": 4,
   "id": "8717570b-c358-43ea-8548-9b02a1cabfe2",
   "metadata": {},
   "outputs": [
    {
     "name": "stdout",
     "output_type": "stream",
     "text": [
      "120\n"
     ]
    }
   ],
   "source": [
    "print(fact)"
   ]
  },
  {
   "cell_type": "code",
   "execution_count": null,
   "id": "86d6322c-b871-4fdb-b8cc-d848f7b21692",
   "metadata": {},
   "outputs": [],
   "source": [
    "# module is like container which stores function classes and variables"
   ]
  },
  {
   "cell_type": "code",
   "execution_count": null,
   "id": "b5be7dfe-d145-4818-ac54-7b310c0b4272",
   "metadata": {},
   "outputs": [],
   "source": [
    "# placing in your code inside namespaceorganising applications"
   ]
  },
  {
   "cell_type": "code",
   "execution_count": null,
   "id": "4c0b9ffb-2c0f-484f-91b8-3de83a2c4f3a",
   "metadata": {},
   "outputs": [],
   "source": [
    "#modules can be imported using 'import modulename'. modulename is name of th epython file without .py extension"
   ]
  }
 ],
 "metadata": {
  "kernelspec": {
   "display_name": "Python 3 (ipykernel)",
   "language": "python",
   "name": "python3"
  },
  "language_info": {
   "codemirror_mode": {
    "name": "ipython",
    "version": 3
   },
   "file_extension": ".py",
   "mimetype": "text/x-python",
   "name": "python",
   "nbconvert_exporter": "python",
   "pygments_lexer": "ipython3",
   "version": "3.11.9"
  }
 },
 "nbformat": 4,
 "nbformat_minor": 5
}
