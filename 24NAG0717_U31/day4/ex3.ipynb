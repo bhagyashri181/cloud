{
 "cells": [
  {
   "cell_type": "code",
   "execution_count": null,
   "id": "84c387fb-673c-4cf1-92ed-ecfbb4169bc4",
   "metadata": {},
   "outputs": [],
   "source": [
    "from hello import addnum,divnum"
   ]
  },
  {
   "cell_type": "code",
   "execution_count": 2,
   "id": "e718a55e-87c7-45a5-bcdb-080bb56f8334",
   "metadata": {},
   "outputs": [
    {
     "name": "stdout",
     "output_type": "stream",
     "text": [
      "20\n",
      "9.0\n"
     ]
    }
   ],
   "source": [
    "from hello import addnum,divnum\n",
    "print(addnum(18,2))\n",
    "print(divnum(18,2))"
   ]
  },
  {
   "cell_type": "code",
   "execution_count": null,
   "id": "67f0dd68-8719-457a-a86e-e6b640794177",
   "metadata": {},
   "outputs": [],
   "source": [
    "#different between import and from module import \n",
    "there is no need to include module import "
   ]
  },
  {
   "cell_type": "code",
   "execution_count": null,
   "id": "2561d830-15b5-454d-bdf9-252f10cc1893",
   "metadata": {},
   "outputs": [],
   "source": []
  }
 ],
 "metadata": {
  "kernelspec": {
   "display_name": "Python 3 (ipykernel)",
   "language": "python",
   "name": "python3"
  },
  "language_info": {
   "codemirror_mode": {
    "name": "ipython",
    "version": 3
   },
   "file_extension": ".py",
   "mimetype": "text/x-python",
   "name": "python",
   "nbconvert_exporter": "python",
   "pygments_lexer": "ipython3",
   "version": "3.11.9"
  }
 },
 "nbformat": 4,
 "nbformat_minor": 5
}
