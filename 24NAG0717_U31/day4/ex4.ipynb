{
 "cells": [
  {
   "cell_type": "code",
   "execution_count": null,
   "id": "b6a537ca-73d2-476d-8e30-dd10769af39b",
   "metadata": {},
   "outputs": [],
   "source": [
    "\n",
    "from hello import * # import all functions, variables, and classes from the module"
   ]
  },
  {
   "cell_type": "code",
   "execution_count": 2,
   "id": "c22c9de9-8851-4b4b-8456-4ebe00cfb329",
   "metadata": {},
   "outputs": [
    {
     "name": "stdout",
     "output_type": "stream",
     "text": [
      "7.0\n"
     ]
    }
   ],
   "source": [
    "from hello import * # import all functions, variables, and classes from the moduleprint(addnum(21,3))\n",
    "print(divnum(21,3))"
   ]
  },
  {
   "cell_type": "code",
   "execution_count": null,
   "id": "e4a9d222-1615-44cc-8ca6-ca832cd49e6e",
   "metadata": {},
   "outputs": [],
   "source": []
  }
 ],
 "metadata": {
  "kernelspec": {
   "display_name": "Python 3 (ipykernel)",
   "language": "python",
   "name": "python3"
  },
  "language_info": {
   "codemirror_mode": {
    "name": "ipython",
    "version": 3
   },
   "file_extension": ".py",
   "mimetype": "text/x-python",
   "name": "python",
   "nbconvert_exporter": "python",
   "pygments_lexer": "ipython3",
   "version": "3.11.9"
  }
 },
 "nbformat": 4,
 "nbformat_minor": 5
}
