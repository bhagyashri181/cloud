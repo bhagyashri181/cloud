{
 "cells": [
  {
   "cell_type": "code",
   "execution_count": 1,
   "id": "f81caa54-e0ef-4ae4-80a1-364e5673996d",
   "metadata": {},
   "outputs": [
    {
     "name": "stdout",
     "output_type": "stream",
     "text": [
      "from example1\n",
      "from example1\n"
     ]
    }
   ],
   "source": [
    "import MyModule1\n",
    "\n",
    "MyModule1.f()\n",
    "MyModule1.g()"
   ]
  },
  {
   "cell_type": "code",
   "execution_count": null,
   "id": "c30d359f-2faf-4070-a76a-c5a27e6ef7a6",
   "metadata": {},
   "outputs": [],
   "source": []
  }
 ],
 "metadata": {
  "kernelspec": {
   "display_name": "Python 3 (ipykernel)",
   "language": "python",
   "name": "python3"
  },
  "language_info": {
   "codemirror_mode": {
    "name": "ipython",
    "version": 3
   },
   "file_extension": ".py",
   "mimetype": "text/x-python",
   "name": "python",
   "nbconvert_exporter": "python",
   "pygments_lexer": "ipython3",
   "version": "3.11.9"
  }
 },
 "nbformat": 4,
 "nbformat_minor": 5
}
