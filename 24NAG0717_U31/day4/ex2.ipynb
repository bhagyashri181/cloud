{
 "cells": [
  {
   "cell_type": "code",
   "execution_count": 5,
   "id": "074a7c3a-6d87-4cca-ac9a-c96477804dec",
   "metadata": {},
   "outputs": [
    {
     "name": "stdout",
     "output_type": "stream",
     "text": [
      "25\n",
      "15\n"
     ]
    }
   ],
   "source": [
    "import hello\n",
    "\n",
    "print(hello.addnum(20,5))\n",
    "print(hello.divnum(20,5))\n"
   ]
  },
  {
   "cell_type": "code",
   "execution_count": 6,
   "id": "c9612ae2-8bfa-4ff3-abd4-65fc863b046f",
   "metadata": {},
   "outputs": [],
   "source": [
    "import requests"
   ]
  },
  {
   "cell_type": "code",
   "execution_count": 7,
   "id": "6bca6e8a-e2ae-437a-84c6-2b8b2b4690ff",
   "metadata": {},
   "outputs": [
    {
     "name": "stdout",
     "output_type": "stream",
     "text": [
      "25\n",
      "15\n"
     ]
    }
   ],
   "source": [
    "import hello\n",
    "\n",
    "print(hello.addnum(20,5))\n",
    "print(hello.divnum(20,5))\n"
   ]
  },
  {
   "cell_type": "code",
   "execution_count": null,
   "id": "f7bf54f2-85cd-4247-9cb1-fde13db712b1",
   "metadata": {},
   "outputs": [],
   "source": [
    "# python - module search\n",
    "# c:\\jdk1.8\\bin\\java"
   ]
  },
  {
   "cell_type": "code",
   "execution_count": null,
   "id": "2fb05320-2abb-4833-a510-5f5a40525ef7",
   "metadata": {},
   "outputs": [],
   "source": [
    "sys.path.append(r\"copy path\") \n",
    "restart the karnel\n",
    "\n",
    "# if we moved the module hello fro one folder to another or directory"
   ]
  },
  {
   "cell_type": "code",
   "execution_count": null,
   "id": "8759967f-f37d-407a-82f0-29406d01c4e9",
   "metadata": {},
   "outputs": [],
   "source": [
    "2nd way \n",
    "from module name function\n",
    "import function/function2/function3"
   ]
  }
 ],
 "metadata": {
  "kernelspec": {
   "display_name": "Python 3 (ipykernel)",
   "language": "python",
   "name": "python3"
  },
  "language_info": {
   "codemirror_mode": {
    "name": "ipython",
    "version": 3
   },
   "file_extension": ".py",
   "mimetype": "text/x-python",
   "name": "python",
   "nbconvert_exporter": "python",
   "pygments_lexer": "ipython3",
   "version": "3.11.9"
  }
 },
 "nbformat": 4,
 "nbformat_minor": 5
}
