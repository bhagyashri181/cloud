{
 "cells": [
  {
   "cell_type": "code",
   "execution_count": 2,
   "id": "85f81ac9-207f-49e5-be73-6f6a5f040dab",
   "metadata": {},
   "outputs": [
    {
     "name": "stdin",
     "output_type": "stream",
     "text": [
      "Enter a number 560\n"
     ]
    }
   ],
   "source": [
    "while True:\n",
    "     try:\n",
    "        x=int(input(\"Enter a number\"))\n",
    "        break\n",
    "     except ValueError:\n",
    "         print (\"Not a valid number\")"
   ]
  },
  {
   "cell_type": "code",
   "execution_count": 3,
   "id": "9e6c6812-a895-4b0e-824e-e11270b7dcac",
   "metadata": {},
   "outputs": [
    {
     "name": "stdout",
     "output_type": "stream",
     "text": [
      "I/O error(2): No such file or directory\n"
     ]
    }
   ],
   "source": [
    "import sys\n",
    "try:\n",
    "    f = open('myfile.txt','r')\n",
    "    s = f.readline()\n",
    "    i = int(s.strip())\n",
    "except IOError as e:\n",
    "    print(\"I/O error({0}): {1}\".format(e.errno, e.strerror))\n",
    "except ValueError:\n",
    "    print(\"Could not convert data to an integer.\") \n",
    "except:\n",
    "    print(\"Unexpected error:\", sys.exc_info()[0]) "
   ]
  },
  {
   "cell_type": "code",
   "execution_count": 5,
   "id": "ed28d0aa-2552-4327-a53d-9790b04dfe8d",
   "metadata": {},
   "outputs": [
    {
     "name": "stdout",
     "output_type": "stream",
     "text": [
      "cannot open the file:\n"
     ]
    }
   ],
   "source": [
    "import sys\n",
    "try:\n",
    "    f=open('/tmp/a.txt','r')\n",
    "except IOError:\n",
    "    print (\"cannot open the file:\")\n",
    "else:\n",
    "    print (\"The file successfully opened\")\n",
    "    f.close()"
   ]
  },
  {
   "cell_type": "code",
   "execution_count": 9,
   "id": "7159ca41-41ce-48d5-9851-67af0dadddc7",
   "metadata": {},
   "outputs": [],
   "source": [
    "def calculateinterest(p,n,r):\n",
    "    if r<=0:\n",
    "        raise ValueError\n",
    "    if n<=0:\n",
    "        raise ValueError\n",
    "    \n",
    "    return p*n*r/100\n",
    "\n",
    "try:\n",
    "    calculateinterest(1000,3,8)\n",
    "except valueError:\n",
    "    print(\"negative value not accepted\")"
   ]
  },
  {
   "cell_type": "code",
   "execution_count": 11,
   "id": "1663d74a-d73e-4eae-82f7-184bd46a79bb",
   "metadata": {},
   "outputs": [
    {
     "name": "stdout",
     "output_type": "stream",
     "text": [
      "Error occured this is test exception\n"
     ]
    }
   ],
   "source": [
    "class MyError(Exception):\n",
    "     def __init__(self,value):\n",
    "         self.value=value\n",
    "     def __repr__(self):\n",
    "         return self.value\n",
    "try:\n",
    "     raise MyError(\"this is test exception\")\n",
    "except MyError as e:\n",
    "     print (\"Error occured\", e.value)"
   ]
  },
  {
   "cell_type": "code",
   "execution_count": 16,
   "id": "02c09f9c-9517-4a95-94ca-1f40ba4b9b77",
   "metadata": {},
   "outputs": [
    {
     "name": "stdout",
     "output_type": "stream",
     "text": [
      "hello\n",
      "hello\n",
      "hello\n",
      "hello\n",
      "hello\n",
      "executed always\n"
     ]
    }
   ],
   "source": [
    "import time\n",
    "\n",
    "try:\n",
    "    count = 0\n",
    "    while True:\n",
    "        count += 1\n",
    "        print(\"hello\")\n",
    "        if count==5:\n",
    "            break\n",
    "        else:\n",
    "            time.sleep(2)\n",
    "except KeyboardInterrupt:\n",
    "    print(\"ctrl and c pressed\")\n",
    "finally:\n",
    "    print(\"executed always\")"
   ]
  },
  {
   "cell_type": "code",
   "execution_count": null,
   "id": "cea01d47-5f56-41cd-a2fb-be4ac93f9f5b",
   "metadata": {},
   "outputs": [],
   "source": [
    "# raise\n",
    "sys.exc_info()"
   ]
  },
  {
   "cell_type": "code",
   "execution_count": null,
   "id": "a7fed40c-3bd6-4ba2-b17e-d3eeae6b03a6",
   "metadata": {},
   "outputs": [],
   "source": []
  }
 ],
 "metadata": {
  "kernelspec": {
   "display_name": "Python 3 (ipykernel)",
   "language": "python",
   "name": "python3"
  },
  "language_info": {
   "codemirror_mode": {
    "name": "ipython",
    "version": 3
   },
   "file_extension": ".py",
   "mimetype": "text/x-python",
   "name": "python",
   "nbconvert_exporter": "python",
   "pygments_lexer": "ipython3",
   "version": "3.11.9"
  }
 },
 "nbformat": 4,
 "nbformat_minor": 5
}
