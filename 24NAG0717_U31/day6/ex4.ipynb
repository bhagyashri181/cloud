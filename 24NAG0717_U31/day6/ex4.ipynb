{
 "cells": [
  {
   "cell_type": "code",
   "execution_count": 1,
   "id": "80a5ed83-52b4-41cc-82b5-032f7fc87573",
   "metadata": {},
   "outputs": [
    {
     "name": "stdin",
     "output_type": "stream",
     "text": [
      "Enter a string\n",
      " www.mydomain.com\n"
     ]
    },
    {
     "name": "stdout",
     "output_type": "stream",
     "text": [
      "mydomain\n"
     ]
    }
   ],
   "source": [
    "import re\n",
    "\n",
    "s1 = input(\"Enter a string\\n\")\n",
    "# www.mydomain.com\n",
    "sobj = re.search(r'.*?\\.(.*?)\\..*',s1)\n",
    "\n",
    "if sobj:\n",
    "    print(sobj.group(1)) # returns characters between 2 dot\n",
    "    \n",
    "else:\n",
    "    print(\"not matched\")"
   ]
  },
  {
   "cell_type": "code",
   "execution_count": null,
   "id": "3ba31b25-52f4-46b6-9445-778e27d86098",
   "metadata": {},
   "outputs": [],
   "source": [
    "regular expression is user defined"
   ]
  },
  {
   "cell_type": "code",
   "execution_count": 1,
   "id": "ab84b5c6-f563-48e3-868d-f1a36bf87bf0",
   "metadata": {},
   "outputs": [
    {
     "name": "stdin",
     "output_type": "stream",
     "text": [
      "Enter a string\n",
      " hello world\n"
     ]
    },
    {
     "name": "stdout",
     "output_type": "stream",
     "text": [
      "not matched\n"
     ]
    }
   ],
   "source": [
    "import re\n",
    "\n",
    "s1 = input(\"Enter a string\\n\")\n",
    "\n",
    "sobj = re.search(r'.*?\\.(.*?)\\..*',s1)\n",
    "\n",
    "if sobj:\n",
    "    print(sobj.group(1)) # returns characters between 2 dot\n",
    "    \n",
    "else:\n",
    "    print(\"not matched\")"
   ]
  },
  {
   "cell_type": "code",
   "execution_count": null,
   "id": "a9524037-bc40-4b95-aa03-7a34a5061604",
   "metadata": {},
   "outputs": [],
   "source": []
  }
 ],
 "metadata": {
  "kernelspec": {
   "display_name": "Python 3 (ipykernel)",
   "language": "python",
   "name": "python3"
  },
  "language_info": {
   "codemirror_mode": {
    "name": "ipython",
    "version": 3
   },
   "file_extension": ".py",
   "mimetype": "text/x-python",
   "name": "python",
   "nbconvert_exporter": "python",
   "pygments_lexer": "ipython3",
   "version": "3.11.9"
  }
 },
 "nbformat": 4,
 "nbformat_minor": 5
}
