{
 "cells": [
  {
   "cell_type": "code",
   "execution_count": 2,
   "id": "86c5e637-b182-4473-bdd4-87ab2e5d0e08",
   "metadata": {},
   "outputs": [],
   "source": [
    "import logging\n",
    "\n",
    "logging.basicConfig(filename='messages1.log',level=logging.DEBUG,filemode='w')\n",
    "\n",
    "\n",
    "#logger = logging.getLogger()\n",
    "logger = logging.getLogger(\"sample-logger\")\n",
    "logger.debug(\"this is a debug log\")\n",
    "logger.info(\"this is a info log\")\n",
    "logger.warning(\"this is a warning log\")\n",
    "logger.critical(\"this is a critical log\")"
   ]
  },
  {
   "cell_type": "code",
   "execution_count": null,
   "id": "acd13356-4e09-4013-acdb-c61827a4d636",
   "metadata": {},
   "outputs": [],
   "source": []
  }
 ],
 "metadata": {
  "kernelspec": {
   "display_name": "Python 3 (ipykernel)",
   "language": "python",
   "name": "python3"
  },
  "language_info": {
   "codemirror_mode": {
    "name": "ipython",
    "version": 3
   },
   "file_extension": ".py",
   "mimetype": "text/x-python",
   "name": "python",
   "nbconvert_exporter": "python",
   "pygments_lexer": "ipython3",
   "version": "3.11.9"
  }
 },
 "nbformat": 4,
 "nbformat_minor": 5
}
