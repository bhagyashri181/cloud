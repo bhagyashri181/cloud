{
 "cells": [
  {
   "cell_type": "code",
   "execution_count": null,
   "id": "3e671758-0a8a-4b97-b72e-dd7969ac1c88",
   "metadata": {},
   "outputs": [],
   "source": [
    "# logs are important for any application\n",
    "# application - requires internet connection\n",
    "# debug\n",
    "# info\n",
    "#warning\n",
    "# critical"
   ]
  },
  {
   "cell_type": "code",
   "execution_count": 1,
   "id": "0c9ca977-83c0-4b28-8e82-3551d6ec2299",
   "metadata": {},
   "outputs": [
    {
     "name": "stderr",
     "output_type": "stream",
     "text": [
      "WARNING:sample-logger:this is a warning log\n",
      "CRITICAL:sample-logger:this is a critical log\n"
     ]
    }
   ],
   "source": [
    "import logging\n",
    "\n",
    "#logging.basicConfig(level=logging.DEBUG)\n",
    "logging.basicConfig(level=logging.WARNING)\n",
    "\n",
    "#logger = logging.getLogger()\n",
    "logger = logging.getLogger(\"sample-logger\")\n",
    "\n",
    "logger.debug(\"this is a debug log\")\n",
    "logger.info(\"this is a info log\")\n",
    "logger.warning(\"this is a warning log\")\n",
    "logger.critical(\"this is a critical log\")"
   ]
  },
  {
   "cell_type": "code",
   "execution_count": null,
   "id": "486f03b0-0408-483f-88f2-deb0c49f4575",
   "metadata": {},
   "outputs": [],
   "source": []
  }
 ],
 "metadata": {
  "kernelspec": {
   "display_name": "Python 3 (ipykernel)",
   "language": "python",
   "name": "python3"
  },
  "language_info": {
   "codemirror_mode": {
    "name": "ipython",
    "version": 3
   },
   "file_extension": ".py",
   "mimetype": "text/x-python",
   "name": "python",
   "nbconvert_exporter": "python",
   "pygments_lexer": "ipython3",
   "version": "3.11.9"
  }
 },
 "nbformat": 4,
 "nbformat_minor": 5
}
