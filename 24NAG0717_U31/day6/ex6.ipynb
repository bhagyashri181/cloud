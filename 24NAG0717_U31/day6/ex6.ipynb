{
 "cells": [
  {
   "cell_type": "code",
   "execution_count": 1,
   "id": "6475f7d9-4bd2-478e-bb4c-f93af7a37083",
   "metadata": {},
   "outputs": [
    {
     "name": "stdout",
     "output_type": "stream",
     "text": [
      "223415678\n",
      "418735106\n",
      "8942651087\n"
     ]
    }
   ],
   "source": [
    "import re\n",
    "\n",
    "fh = open('numbers.txt','r')\n",
    "\n",
    "for line in fh.readlines():\n",
    "    line = line.rstrip('\\n') # removes new line character\n",
    "    sobj = re.search(r'.*#(\\d+)', line)\n",
    "\n",
    "    if sobj:\n",
    "        print(sobj.group(1)) # returns digits from each line\n",
    "\n",
    "fh.close()"
   ]
  },
  {
   "cell_type": "code",
   "execution_count": null,
   "id": "19911886-5d0c-4e63-8172-fd0e21fa01e6",
   "metadata": {},
   "outputs": [],
   "source": []
  }
 ],
 "metadata": {
  "kernelspec": {
   "display_name": "Python 3 (ipykernel)",
   "language": "python",
   "name": "python3"
  },
  "language_info": {
   "codemirror_mode": {
    "name": "ipython",
    "version": 3
   },
   "file_extension": ".py",
   "mimetype": "text/x-python",
   "name": "python",
   "nbconvert_exporter": "python",
   "pygments_lexer": "ipython3",
   "version": "3.11.9"
  }
 },
 "nbformat": 4,
 "nbformat_minor": 5
}
