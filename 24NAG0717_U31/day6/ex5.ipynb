{
 "cells": [
  {
   "cell_type": "code",
   "execution_count": 1,
   "id": "c3334f81-da45-4eb3-a48f-9e887868cdc5",
   "metadata": {},
   "outputs": [
    {
     "name": "stdin",
     "output_type": "stream",
     "text": [
      "Enter a string\n",
      " helloworld\n"
     ]
    },
    {
     "name": "stdout",
     "output_type": "stream",
     "text": [
      "not matched\n"
     ]
    }
   ],
   "source": [
    "import re\n",
    "\n",
    "s1 = input(\"Enter a string\\n\")\n",
    "\n",
    "#sobj = re.search(r'hello\\s[abcdefghijklmn]',s1)\n",
    "#sobj = re.search(r'hello\\s[a-n]',s1)\n",
    "sobj = re.search(r'hello\\s[\\w]',s1)\n",
    "\n",
    "if sobj:\n",
    "    print(\"matched\")\n",
    "else:\n",
    "    print(\"not matched\")\n"
   ]
  },
  {
   "cell_type": "code",
   "execution_count": 2,
   "id": "1b70883d-91e8-4243-a773-1ead49c87d85",
   "metadata": {},
   "outputs": [
    {
     "name": "stdout",
     "output_type": "stream",
     "text": [
      "223415678\n",
      "418735106\n",
      "8942651087\n"
     ]
    }
   ],
   "source": []
  },
  {
   "cell_type": "code",
   "execution_count": null,
   "id": "e5d00f0c-d290-4506-a4c2-b2786ab4de90",
   "metadata": {},
   "outputs": [],
   "source": []
  }
 ],
 "metadata": {
  "kernelspec": {
   "display_name": "Python 3 (ipykernel)",
   "language": "python",
   "name": "python3"
  },
  "language_info": {
   "codemirror_mode": {
    "name": "ipython",
    "version": 3
   },
   "file_extension": ".py",
   "mimetype": "text/x-python",
   "name": "python",
   "nbconvert_exporter": "python",
   "pygments_lexer": "ipython3",
   "version": "3.11.9"
  }
 },
 "nbformat": 4,
 "nbformat_minor": 5
}
