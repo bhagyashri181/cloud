{
 "cells": [
  {
   "cell_type": "code",
   "execution_count": 1,
   "id": "519135b1-c563-4678-990b-2f6dc65edc6e",
   "metadata": {},
   "outputs": [
    {
     "name": "stdout",
     "output_type": "stream",
     "text": [
      "> \u001b[1;32mc:\\users\\administrator\\appdata\\local\\temp\\ipykernel_6196\\2616338547.py\u001b[0m(8)\u001b[0;36m<module>\u001b[1;34m()\u001b[0m\n",
      "\n"
     ]
    },
    {
     "name": "stdin",
     "output_type": "stream",
     "text": [
      "ipdb>  c\n"
     ]
    },
    {
     "name": "stdout",
     "output_type": "stream",
     "text": [
      "1:a\n",
      "1:b\n",
      "1:c\n",
      "1:d\n",
      "1:e\n",
      "> \u001b[1;32mc:\\users\\administrator\\appdata\\local\\temp\\ipykernel_6196\\2616338547.py\u001b[0m(8)\u001b[0;36m<module>\u001b[1;34m()\u001b[0m\n",
      "\n"
     ]
    },
    {
     "name": "stdin",
     "output_type": "stream",
     "text": [
      "ipdb>  c\n"
     ]
    },
    {
     "name": "stdout",
     "output_type": "stream",
     "text": [
      "2:a\n",
      "2:b\n",
      "2:c\n",
      "2:d\n",
      "2:e\n",
      "> \u001b[1;32mc:\\users\\administrator\\appdata\\local\\temp\\ipykernel_6196\\2616338547.py\u001b[0m(8)\u001b[0;36m<module>\u001b[1;34m()\u001b[0m\n",
      "\n"
     ]
    },
    {
     "name": "stdin",
     "output_type": "stream",
     "text": [
      "ipdb>  c\n"
     ]
    },
    {
     "name": "stdout",
     "output_type": "stream",
     "text": [
      "3:a\n",
      "3:b\n",
      "3:c\n",
      "3:d\n",
      "3:e\n"
     ]
    }
   ],
   "source": [
    "import pdb\n",
    "\n",
    "chars = ['a','b','c','d','e']\n",
    "numbers = [1,2,3]\n",
    "\n",
    "for num in numbers:\n",
    "  pdb.set_trace()\n",
    "  for char in chars:\n",
    "    print(\"{}:{}\".format(num,char))"
   ]
  },
  {
   "cell_type": "code",
   "execution_count": null,
   "id": "87573085-ac5b-483f-b240-2a74919261bd",
   "metadata": {},
   "outputs": [],
   "source": []
  }
 ],
 "metadata": {
  "kernelspec": {
   "display_name": "Python 3 (ipykernel)",
   "language": "python",
   "name": "python3"
  },
  "language_info": {
   "codemirror_mode": {
    "name": "ipython",
    "version": 3
   },
   "file_extension": ".py",
   "mimetype": "text/x-python",
   "name": "python",
   "nbconvert_exporter": "python",
   "pygments_lexer": "ipython3",
   "version": "3.11.9"
  }
 },
 "nbformat": 4,
 "nbformat_minor": 5
}
