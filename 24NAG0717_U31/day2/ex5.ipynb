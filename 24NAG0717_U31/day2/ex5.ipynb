{
 "cells": [
  {
   "cell_type": "code",
   "execution_count": null,
   "id": "085d2d2f-edc9-4623-a6bc-fcea4e93d6f0",
   "metadata": {},
   "outputs": [],
   "source": []
  },
  {
   "cell_type": "code",
   "execution_count": null,
   "id": "b98777f6-b1bb-486a-8b43-ad9789bbd13e",
   "metadata": {},
   "outputs": [],
   "source": [
    "#adding element to list\n",
    "#insert\n",
    "#append\n",
    "#extend"
   ]
  },
  {
   "cell_type": "code",
   "execution_count": null,
   "id": "012753c8-2296-4e49-ab76-7a1f75a36a11",
   "metadata": {},
   "outputs": [],
   "source": [
    "list "
   ]
  }
 ],
 "metadata": {
  "kernelspec": {
   "display_name": "Python 3 (ipykernel)",
   "language": "python",
   "name": "python3"
  },
  "language_info": {
   "codemirror_mode": {
    "name": "ipython",
    "version": 3
   },
   "file_extension": ".py",
   "mimetype": "text/x-python",
   "name": "python",
   "nbconvert_exporter": "python",
   "pygments_lexer": "ipython3",
   "version": "3.11.9"
  }
 },
 "nbformat": 4,
 "nbformat_minor": 5
}
