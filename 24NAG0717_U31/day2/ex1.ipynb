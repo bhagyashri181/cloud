{
 "cells": [
  {
   "cell_type": "code",
   "execution_count": 3,
   "id": "6dec28ca-619b-487f-8b69-6d7c0e744dda",
   "metadata": {},
   "outputs": [
    {
     "name": "stdout",
     "output_type": "stream",
     "text": [
      "{40, 10, 50, 20, 60, 30}\n"
     ]
    }
   ],
   "source": [
    "# set is same as list but without duplicates\n",
    "s1 = set([10,20,30,20,30,20,40,50,60])\n",
    "print(s1)\n"
   ]
  },
  {
   "cell_type": "code",
   "execution_count": 4,
   "id": "d91736b8-0d86-4e35-86bf-76fcd91bd5f9",
   "metadata": {},
   "outputs": [],
   "source": [
    "s1.remove(50)"
   ]
  },
  {
   "cell_type": "code",
   "execution_count": null,
   "id": "83bc329c-7615-426b-b0b0-e40d3c00491e",
   "metadata": {},
   "outputs": [],
   "source": []
  }
 ],
 "metadata": {
  "kernelspec": {
   "display_name": "Python 3 (ipykernel)",
   "language": "python",
   "name": "python3"
  },
  "language_info": {
   "codemirror_mode": {
    "name": "ipython",
    "version": 3
   },
   "file_extension": ".py",
   "mimetype": "text/x-python",
   "name": "python",
   "nbconvert_exporter": "python",
   "pygments_lexer": "ipython3",
   "version": "3.11.9"
  }
 },
 "nbformat": 4,
 "nbformat_minor": 5
}
