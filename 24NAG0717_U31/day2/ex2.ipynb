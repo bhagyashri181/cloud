{
 "cells": [
  {
   "cell_type": "code",
   "execution_count": null,
   "id": "02a4f757-a025-4ae3-935d-93214cb4dd54",
   "metadata": {},
   "outputs": [],
   "source": [
    "s2 = \"cat sat on the mat\"\n",
    "words = s2.split()"
   ]
  },
  {
   "cell_type": "code",
   "execution_count": 3,
   "id": "8721a411-472e-4e1d-b317-c43ca0129fab",
   "metadata": {},
   "outputs": [
    {
     "name": "stdout",
     "output_type": "stream",
     "text": [
      "words\n"
     ]
    }
   ],
   "source": [
    "print(\"words\")"
   ]
  },
  {
   "cell_type": "markdown",
   "id": "5980c94c-d732-4224-8f0e-b39534e60219",
   "metadata": {},
   "source": []
  },
  {
   "cell_type": "code",
   "execution_count": 2,
   "id": "e6c5aada-cc7e-4563-bc3a-3a38ff1ea6e4",
   "metadata": {},
   "outputs": [
    {
     "name": "stdout",
     "output_type": "stream",
     "text": [
      "value of pi=3.145613\n"
     ]
    }
   ],
   "source": [
    "pi = 3.145613\n",
    "#value of pi = 3.14\n",
    "print(\"value of pi=%f\" %pi)"
   ]
  },
  {
   "cell_type": "code",
   "execution_count": null,
   "id": "39a2bb6e-9176-4706-9624-f4d306e53e69",
   "metadata": {},
   "outputs": [],
   "source": []
  },
  {
   "cell_type": "code",
   "execution_count": 4,
   "id": "64ee193f-46e6-4780-9d63-88878b3142b9",
   "metadata": {},
   "outputs": [
    {
     "name": "stdout",
     "output_type": "stream",
     "text": [
      "bob has scored 80 marks in maths\n"
     ]
    }
   ],
   "source": [
    "name = 'bob'\n",
    "marks = 80\n",
    "subject = 'maths'\n",
    "print(\"%s has scored %d marks in %s\" %(name, marks, subject))\n"
   ]
  },
  {
   "cell_type": "code",
   "execution_count": null,
   "id": "ee0d8541-77b8-4c00-a337-fef9708046e8",
   "metadata": {},
   "outputs": [],
   "source": []
  }
 ],
 "metadata": {
  "kernelspec": {
   "display_name": "Python 3 (ipykernel)",
   "language": "python",
   "name": "python3"
  },
  "language_info": {
   "codemirror_mode": {
    "name": "ipython",
    "version": 3
   },
   "file_extension": ".py",
   "mimetype": "text/x-python",
   "name": "python",
   "nbconvert_exporter": "python",
   "pygments_lexer": "ipython3",
   "version": "3.11.9"
  }
 },
 "nbformat": 4,
 "nbformat_minor": 5
}
