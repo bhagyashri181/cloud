{
 "cells": [
  {
   "cell_type": "code",
   "execution_count": 1,
   "id": "827d363e-d33c-4fad-93e8-3ef1b8369235",
   "metadata": {},
   "outputs": [
    {
     "name": "stdout",
     "output_type": "stream",
     "text": [
      "['name,mark,subject', 'joe,68,maths', 'tom,59,english', 'alice,63,science']\n"
     ]
    }
   ],
   "source": [
    "s1 = \"name,mark,subject\\njoe,68,maths\\ntom,59,english\\nalice,63,science\"\n",
    "# d1 = {\n",
    "#  's1': {'name':'joe','mark':'68','subject':'maths'}\n",
    "#  's2': {'name':'tom','mark':'59','subject':'english'}\n",
    "#  's3': {'name':'joe','mark':'63','subject':'science'}\n",
    "# }\n",
    "d1 = {} # master dictionary for holding information on all students\n",
    "\n",
    "data = s1.split('\\n')\n",
    "\n",
    "print(data)"
   ]
  },
  {
   "cell_type": "code",
   "execution_count": null,
   "id": "ff6623fa-24df-4b97-8393-4851c40e1e54",
   "metadata": {},
   "outputs": [],
   "source": []
  }
 ],
 "metadata": {
  "kernelspec": {
   "display_name": "Python 3 (ipykernel)",
   "language": "python",
   "name": "python3"
  },
  "language_info": {
   "codemirror_mode": {
    "name": "ipython",
    "version": 3
   },
   "file_extension": ".py",
   "mimetype": "text/x-python",
   "name": "python",
   "nbconvert_exporter": "python",
   "pygments_lexer": "ipython3",
   "version": "3.11.9"
  }
 },
 "nbformat": 4,
 "nbformat_minor": 5
}
