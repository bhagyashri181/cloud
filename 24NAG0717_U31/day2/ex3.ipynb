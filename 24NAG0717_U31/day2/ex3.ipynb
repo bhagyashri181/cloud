{
 "cells": [
  {
   "cell_type": "code",
   "execution_count": null,
   "id": "1a1d952d-b6c9-43f2-b879-2ead93216225",
   "metadata": {},
   "outputs": [],
   "source": []
  }
 ],
 "metadata": {
  "kernelspec": {
   "display_name": "",
   "name": ""
  },
  "language_info": {
   "name": ""
  }
 },
 "nbformat": 4,
 "nbformat_minor": 5
}
