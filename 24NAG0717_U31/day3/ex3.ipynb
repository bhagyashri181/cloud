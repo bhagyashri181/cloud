{
 "cells": [
  {
   "cell_type": "code",
   "execution_count": 1,
   "id": "372e7381-490f-4a2c-997b-c1242ad895fd",
   "metadata": {},
   "outputs": [
    {
     "name": "stdout",
     "output_type": "stream",
     "text": [
      "a line outside the function\n",
      "helloworld\n",
      "this line is part of the function\n",
      "helloworld\n",
      "this line is part of the function\n"
     ]
    }
   ],
   "source": [
    "\"\"\"Examples for functions\"\"\"\n",
    "# function definition\n",
    "def sayHello():\n",
    "    \"\"\"this is an example function\"\"\"\n",
    "    print(\"helloworld\")\n",
    "    print(\"this line is part of the function\")\n",
    "print(\"a line outside the function\")\n",
    "\n",
    "sayHello() # function call\n",
    "sayHello()"
   ]
  },
  {
   "cell_type": "code",
   "execution_count": 2,
   "id": "e138f3b9-21b3-43a3-89b5-c0361e8aed07",
   "metadata": {},
   "outputs": [
    {
     "ename": "SyntaxError",
     "evalue": "incomplete input (2009374882.py, line 10)",
     "output_type": "error",
     "traceback": [
      "\u001b[1;36m  Cell \u001b[1;32mIn[2], line 10\u001b[1;36m\u001b[0m\n\u001b[1;33m    print(\"Value outside function: \", s1\u001b[0m\n\u001b[1;37m                                        ^\u001b[0m\n\u001b[1;31mSyntaxError\u001b[0m\u001b[1;31m:\u001b[0m incomplete input\n"
     ]
    }
   ],
   "source": [
    "\"\"\"Examples for immutable object\"\"\"\n",
    "def changeval(somestring):\n",
    "    somestring = \"welcome to python\"\n",
    "    print(\"Value inside function: \", somestring)\n",
    "\n",
    "s1 = \"hello python\"\n",
    "\n",
    "changeval(s1)\n",
    "\n",
    "print(\"Value outside function: \", s1"
   ]
  },
  {
   "cell_type": "code",
   "execution_count": null,
   "id": "175fdb89-5005-4788-8b3f-18a4665e3025",
   "metadata": {},
   "outputs": [],
   "source": []
  }
 ],
 "metadata": {
  "kernelspec": {
   "display_name": "Python 3 (ipykernel)",
   "language": "python",
   "name": "python3"
  },
  "language_info": {
   "codemirror_mode": {
    "name": "ipython",
    "version": 3
   },
   "file_extension": ".py",
   "mimetype": "text/x-python",
   "name": "python",
   "nbconvert_exporter": "python",
   "pygments_lexer": "ipython3",
   "version": "3.11.9"
  }
 },
 "nbformat": 4,
 "nbformat_minor": 5
}
