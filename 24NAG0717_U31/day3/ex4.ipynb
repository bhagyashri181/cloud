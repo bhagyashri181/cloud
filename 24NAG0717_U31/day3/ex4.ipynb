{
 "cells": [
  {
   "cell_type": "code",
   "execution_count": 1,
   "id": "30bfe8b1-f861-4aff-bcf5-29b7f466ece7",
   "metadata": {},
   "outputs": [
    {
     "name": "stdout",
     "output_type": "stream",
     "text": [
      "outside function: 20\n",
      "outside function: 20\n",
      "inside function: 15\n",
      "outside function: 15\n"
     ]
    }
   ],
   "source": [
    "\"\"\"Examples for variable with global scope\"\"\"\n",
    "\n",
    "x=20 # has a global scope\n",
    "\n",
    "def f():\n",
    "    print(\"inside function:\",x) # accessing the global variable, as 'x' not redefined inside the function\n",
    "    \n",
    "print(\"outside function:\",x)\n",
    "    \n",
    "    \n",
    "\"\"\"Example for variable with local scope\"\"\"\n",
    "\n",
    "x=20 # has a global scope\n",
    "\n",
    "def f():\n",
    "    x=15\n",
    "    print(\"inside function:\",x) # accessing the local variable, as 'x' got redefined inside the function\n",
    "    \n",
    "print(\"outside function:\",x) \n",
    "\n",
    "\"\"\"Example for creating a global variable inside a function\"\"\"\n",
    "\n",
    "\n",
    "def f():\n",
    "    global x\n",
    "    x=15\n",
    "    print(\"inside function:\",x) \n",
    "\n",
    "f()    \n",
    "\n",
    "print(\"outside function:\",x) # accessing the global variable defined inside the function"
   ]
  },
  {
   "cell_type": "code",
   "execution_count": 2,
   "id": "28dbed05-ba00-4b73-9026-1f6eac01d44e",
   "metadata": {},
   "outputs": [
    {
     "name": "stdout",
     "output_type": "stream",
     "text": [
      "inside function: 20\n",
      "outside fuction: 15\n"
     ]
    }
   ],
   "source": [
    "x = 20  # has a global scope\n",
    "def f():\n",
    "    global x\n",
    "    x=15  # x with global scope\n",
    "print(\"inside function:\",x)  # accesing the global variable using gloabal keyword\n",
    "f()\n",
    "print(\"outside fuction:\",x)"
   ]
  },
  {
   "cell_type": "code",
   "execution_count": null,
   "id": "44ec1ffe-eec1-4469-abd7-9270659c00d5",
   "metadata": {},
   "outputs": [],
   "source": []
  }
 ],
 "metadata": {
  "kernelspec": {
   "display_name": "Python 3 (ipykernel)",
   "language": "python",
   "name": "python3"
  },
  "language_info": {
   "codemirror_mode": {
    "name": "ipython",
    "version": 3
   },
   "file_extension": ".py",
   "mimetype": "text/x-python",
   "name": "python",
   "nbconvert_exporter": "python",
   "pygments_lexer": "ipython3",
   "version": "3.11.9"
  }
 },
 "nbformat": 4,
 "nbformat_minor": 5
}
