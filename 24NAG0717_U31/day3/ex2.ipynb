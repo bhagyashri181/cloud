{
 "cells": [
  {
   "cell_type": "code",
   "execution_count": 1,
   "id": "5906118f-adec-4866-990b-1459c2053e82",
   "metadata": {},
   "outputs": [
    {
     "name": "stdout",
     "output_type": "stream",
     "text": [
      "48\n",
      "hello\n",
      "13.25\n",
      "91\n",
      "37\n",
      "world\n",
      "True\n",
      "flowers\n",
      "51\n",
      "78\n",
      "hello\n",
      "78\n",
      "['hello', 13.25, 91, 37]\n",
      "[48, 'hello', 13.25, 91, 37]\n",
      "['world', True, 'flowers', 51, 78]\n",
      "[48, 'hello', 13.25, 91, 37, 'world', True, 'flowers', 51, 78]\n",
      "['hello', 91, 'world', 'flowers']\n",
      "[78, 51, 'flowers', True, 'world', 37, 91, 13.25, 'hello', 48]\n",
      "[10, 20, 30, 'a', 'b', 'c']\n",
      "['a', 'b', 'c', 'a', 'b', 'c', 'a', 'b', 'c']\n"
     ]
    }
   ],
   "source": [
    "list1 = [48,\"hello\",13.25,91,37,\"world\",True,\"flowers\",51,78] # the elements can be of different data type\n",
    "#         0     1     2     3  4   5       6     7       8  9\n",
    "# iterate over the list using a for loop\n",
    "\n",
    "for element in list1:\n",
    "    print(element)\n",
    "    \n",
    "# print/return a list element using index\n",
    "print(list1[1]) # print the element at index 1\n",
    "\n",
    "# print/return a list element using negative index\n",
    "print(list1[-1]) # print the last element\n",
    "\n",
    "# print/return list elements using slicing operator. \n",
    "print(list1[1:5]) # print all elements \n",
    "\n",
    "print(list1[:5]) # print all elements from index 0 upto index 5(not including index 5)\n",
    "\n",
    "print(list1[5:]) # print all elements from index 5 upto end of the list\n",
    "\n",
    "print(list1[:]) # returns/prints a new list with same set of elements\n",
    "\n",
    "# extended slicing list[start:stop:step]\n",
    "\n",
    "print(list1[1:8:2]) # prints elements at index 1,3,5 and 7\n",
    "\n",
    "# reverse a list using extended slicing\n",
    "print(list1[::-1])\n",
    "\n",
    "\n",
    "list2 = [10,20,30]\n",
    "\n",
    "list3= ['a','b','c']\n",
    "# merge 2 lists using '+' operator\n",
    "\n",
    "print(list2 + list3)\n",
    "\n",
    "\n",
    "# multiplying list using '*' operator\n",
    "\n",
    "list4 = ['a','b','c']\n",
    "\n",
    "print(list4 * 3) # a list with 9 elements is formed by repeating 'a','b','c' for 3 times"
   ]
  },
  {
   "cell_type": "code",
   "execution_count": null,
   "id": "0247ce3a-0bee-4c2c-920f-244745262333",
   "metadata": {},
   "outputs": [],
   "source": []
  }
 ],
 "metadata": {
  "kernelspec": {
   "display_name": "Python 3 (ipykernel)",
   "language": "python",
   "name": "python3"
  },
  "language_info": {
   "codemirror_mode": {
    "name": "ipython",
    "version": 3
   },
   "file_extension": ".py",
   "mimetype": "text/x-python",
   "name": "python",
   "nbconvert_exporter": "python",
   "pygments_lexer": "ipython3",
   "version": "3.11.9"
  }
 },
 "nbformat": 4,
 "nbformat_minor": 5
}
