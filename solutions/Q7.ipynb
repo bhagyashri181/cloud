{
 "cells": [
  {
   "cell_type": "code",
   "execution_count": 1,
   "id": "b99439f7-67bc-4b44-9b36-700cedf68ddf",
   "metadata": {},
   "outputs": [
    {
     "name": "stdout",
     "output_type": "stream",
     "text": [
      "[27, 18, 48, 49, 6]\n"
     ]
    }
   ],
   "source": [
    "original_list = [22,13,45,50,98,69,43,44,1]\n",
    "new_list = [num + 5 for num in original_list if num < 45]\n",
    "print(new_list)"
   ]
  },
  {
   "cell_type": "code",
   "execution_count": null,
   "id": "d74543e4-bcd2-4009-a68a-8482d9669992",
   "metadata": {},
   "outputs": [],
   "source": [
    "problem 7\n",
    "\n",
    "This line initializes a list named original_list containing some integers.\n",
    "\n",
    "This line uses a list comprehension to create a new list named new_list. It iterates over each element (num) in original_list and \n",
    "adds 5 to it only if \n",
    "the element is less than 45.\n",
    " The result is a list containing the elements from original_list that are less than 45, each incremented by 5.\n",
    "\n",
    "\n",
    "Finally, this line prints the new_list to the console, s\n",
    "howing the result of the list comprehension. \n",
    "It will contain elements from original_list less than 45, each incremented by 5."
   ]
  }
 ],
 "metadata": {
  "kernelspec": {
   "display_name": "Python 3 (ipykernel)",
   "language": "python",
   "name": "python3"
  },
  "language_info": {
   "codemirror_mode": {
    "name": "ipython",
    "version": 3
   },
   "file_extension": ".py",
   "mimetype": "text/x-python",
   "name": "python",
   "nbconvert_exporter": "python",
   "pygments_lexer": "ipython3",
   "version": "3.11.9"
  }
 },
 "nbformat": 4,
 "nbformat_minor": 5
}
