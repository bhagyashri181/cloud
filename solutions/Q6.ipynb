{
 "cells": [
  {
   "cell_type": "code",
   "execution_count": 1,
   "id": "4fdf7c52-09fc-4f5d-b7d6-b3a0cc3fe312",
   "metadata": {},
   "outputs": [
    {
     "name": "stdout",
     "output_type": "stream",
     "text": [
      "['apple', 'banana', 'mango']\n"
     ]
    }
   ],
   "source": [
    "\"\"\"Write a list comprehension to select words with only three characters from a given text\"\"\"\n",
    "\n",
    "fruits = [\"apple\", \"banana\", \"cherry\", \"kiwi\", \"mango\"]\n",
    "newlist = []\n",
    "\n",
    "for x in fruits:\n",
    "    if \"a\" in x:\n",
    "        newlist.append(x)\n",
    "\n",
    "print(newlist)"
   ]
  },
  {
   "cell_type": "code",
   "execution_count": null,
   "id": "9ee46f93-d4df-4cad-9f8e-5ec821965db8",
   "metadata": {},
   "outputs": [],
   "source": [
    "Problem 6\n",
    "This line is a multi-line comment enclosed within triple quotes.\n",
    " It provides an instruction or description of what the code is intended to do, \n",
    "which is to write a list comprehension to select words with only three characters from a given text.\n",
    " However, this comment doesn't have any impact on the execution of the code.\n",
    "\n",
    "Here, a list named fruits is defined, containing several string elements, each representing the name of a fruit.\n",
    "\n",
    "An empty list named newlist is initialized. This list will be used to store the selected words from fruits.\n",
    "\n",
    "This for loop iterates over each element x in the fruits list. For each element,\n",
    " it checks if the letter \"a\" is present in the word (if \"a\" in x). If it is, the word x is appended to the newlist.\n",
    "\n",
    "Finally, this line prints the newlist to the console, displaying the words from fruits that contain the letter \"a\".\n",
    " However, the code provided in the comment doesn't match the code below it. The comment suggests selecting words with only three characters, \n",
    "but the actual code selects words containing the letter \"a\".\n",
    "\n"
   ]
  }
 ],
 "metadata": {
  "kernelspec": {
   "display_name": "Python 3 (ipykernel)",
   "language": "python",
   "name": "python3"
  },
  "language_info": {
   "codemirror_mode": {
    "name": "ipython",
    "version": 3
   },
   "file_extension": ".py",
   "mimetype": "text/x-python",
   "name": "python",
   "nbconvert_exporter": "python",
   "pygments_lexer": "ipython3",
   "version": "3.11.9"
  }
 },
 "nbformat": 4,
 "nbformat_minor": 5
}
