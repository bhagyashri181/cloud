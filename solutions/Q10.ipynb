{
 "cells": [
  {
   "cell_type": "code",
   "execution_count": 1,
   "id": "789b6cbb-fa4b-49d9-a1eb-e7bb91995390",
   "metadata": {},
   "outputs": [
    {
     "name": "stdin",
     "output_type": "stream",
     "text": [
      "Enter an integer: 25\n"
     ]
    },
    {
     "name": "stdout",
     "output_type": "stream",
     "text": [
      "The divisors of the number are:\n",
      "1\n",
      "5\n",
      "25\n"
     ]
    }
   ],
   "source": [
    "n=int(input(\"Enter an integer:\"))\n",
    "print(\"The divisors of the number are:\")\n",
    "for i in range(1,n+1):\n",
    "    if(n%i==0):\n",
    "        print(i)"
   ]
  },
  {
   "cell_type": "code",
   "execution_count": 1,
   "id": "54e70313-affb-46da-a3fd-5590e4024252",
   "metadata": {},
   "outputs": [
    {
     "name": "stdin",
     "output_type": "stream",
     "text": [
      "Enter a number:  59\n"
     ]
    },
    {
     "name": "stdout",
     "output_type": "stream",
     "text": [
      "1\n"
     ]
    }
   ],
   "source": [
    "number = eval(input(\"Enter a number: \"))\n",
    "\n",
    "for i in range(1,number):\n",
    "    if number % i == 0:\n",
    "        print( i)"
   ]
  },
  {
   "cell_type": "code",
   "execution_count": 2,
   "id": "0404457c-9bad-482b-a9bd-8480a9621c63",
   "metadata": {},
   "outputs": [
    {
     "name": "stdin",
     "output_type": "stream",
     "text": [
      "Enter a number:  78\n"
     ]
    },
    {
     "name": "stdout",
     "output_type": "stream",
     "text": [
      "1\n",
      "2\n",
      "3\n",
      "6\n",
      "13\n",
      "26\n",
      "39\n"
     ]
    }
   ],
   "source": [
    "\"\"\"Write a program that asks the user to enter a number and prints out all the divisors of that\n",
    "number. [Hint: the % operator is used to tell if a number is divisible by something.\"\"\"\n",
    "\n",
    "\n",
    "number = eval(input(\"Enter a number: \"))\n",
    "\n",
    "for i in range(1,number):\n",
    "    if number % i == 0:\n",
    "        print( i)"
   ]
  },
  {
   "cell_type": "code",
   "execution_count": null,
   "id": "63386569-06a6-44d4-96ab-d3c3d5260f26",
   "metadata": {},
   "outputs": [],
   "source": []
  }
 ],
 "metadata": {
  "kernelspec": {
   "display_name": "Python 3 (ipykernel)",
   "language": "python",
   "name": "python3"
  },
  "language_info": {
   "codemirror_mode": {
    "name": "ipython",
    "version": 3
   },
   "file_extension": ".py",
   "mimetype": "text/x-python",
   "name": "python",
   "nbconvert_exporter": "python",
   "pygments_lexer": "ipython3",
   "version": "3.11.9"
  }
 },
 "nbformat": 4,
 "nbformat_minor": 5
}
