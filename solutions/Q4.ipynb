{
 "cells": [
  {
   "cell_type": "code",
   "execution_count": 2,
   "id": "7042d18c-890a-4f96-96b3-95936bccd559",
   "metadata": {},
   "outputs": [
    {
     "name": "stdout",
     "output_type": "stream",
     "text": [
      "Score of the word 'helloworld' is: 17\n"
     ]
    }
   ],
   "source": [
    "points = {'A':1, 'B':3, 'C':3, 'D':2, 'E':1, 'F':4, 'G':2,\n",
    "          'H':4, 'I':1, 'J':8, 'K':5, 'L':1, 'M':3, 'N':1,\n",
    "          'O':1, 'P':3, 'Q':10, 'R':1, 'S':1, 'T':1, 'U':1,\n",
    "          'V':4, 'W':4, 'X':8, 'Y':4, 'Z':10}\n",
    "\n",
    "word =\"helloworld\"\n",
    "\n",
    "score = sum(points[char.upper()] for char in word)\n",
    "\n",
    "print(\"Score of the word '{}' is: {}\".format(word, score))            "
   ]
  },
  {
   "cell_type": "code",
   "execution_count": null,
   "id": "9e6032c8-5630-43a8-9e1b-7b801a84534c",
   "metadata": {},
   "outputs": [],
   "source": []
  }
 ],
 "metadata": {
  "kernelspec": {
   "display_name": "Python 3 (ipykernel)",
   "language": "python",
   "name": "python3"
  },
  "language_info": {
   "codemirror_mode": {
    "name": "ipython",
    "version": 3
   },
   "file_extension": ".py",
   "mimetype": "text/x-python",
   "name": "python",
   "nbconvert_exporter": "python",
   "pygments_lexer": "ipython3",
   "version": "3.11.9"
  }
 },
 "nbformat": 4,
 "nbformat_minor": 5
}
