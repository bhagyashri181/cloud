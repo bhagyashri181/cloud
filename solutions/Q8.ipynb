{
 "cells": [
  {
   "cell_type": "code",
   "execution_count": 1,
   "id": "a5bcb5da-5ebe-4ae3-9284-269bbec0ddd4",
   "metadata": {},
   "outputs": [
    {
     "name": "stdout",
     "output_type": "stream",
     "text": [
      "'abcdefghijklmnopqrstuvwxyz.,!'\n"
     ]
    }
   ],
   "source": [
    "import random\n",
    "alphabet = \"'abcdefghijklmnopqrstuvwxyz.,!'\"\n",
    "\n",
    "def makeKey(alphabet):\n",
    "   alphabet= list(alphabet)\n",
    "   key= random.shuffle(alphabet)\n",
    "   alphabet= str(alphabet)\n",
    "   return key\n",
    "\n",
    "\n",
    "def encrypt(plaintext, key, alphabet):\n",
    "    \"\"\"Encrypt the string and return the ciphertext\"\"\"\n",
    "    return ''.join(key[l] for l in plaintext)\n",
    "\n",
    "print (alphabet)"
   ]
  },
  {
   "cell_type": "code",
   "execution_count": null,
   "id": "112359aa-dfd2-4131-a70b-8480f772517b",
   "metadata": {},
   "outputs": [],
   "source": [
    "roblem 8\n",
    "This line imports the random module in Python, which provides various functions for generating random numbers.\n",
    "\n",
    "\n",
    "Here, a string named alphabet is defined, which contains a set of characters.\n",
    "This string seems to represent the characters that can be used in the encryption and decryption processes.\n",
    "\n",
    "This line defines a function named makeKey which takes alphabet as a parameter.\n",
    "\n",
    "Within the makeKey function, the alphabet string is converted into a list using the list() function. \n",
    "This will make it easier to shuffle the characters.\n",
    "\n",
    "Here, the random.shuffle() function is called with alphabet as an argument. This function shuffles the elements of the list alphabet in place.\n",
    " However, it's important to note that random.shuffle() doesn't return anything (or rather, it returns None). So, key will be assigned None.\n",
    "\n",
    "After shuffling, the alphabet list is converted back to a string using the str() function. However,\n",
    " this line seems unnecessary because key is assigned None, and alphabet is already a string.\n",
    "\n",
    "Finally, the makeKey function returns the shuffled key.\n",
    "\n",
    "This line defines another function named encrypt which takes three parameters: plaintext, key, and alphabet.\n",
    "\n",
    "This is a docstring which briefly explains what the encrypt function does.\n",
    "\n",
    "\n",
    "This line encrypts the plaintext using the key and returns the ciphertext.\n",
    " It iterates over each character l in plaintext and retrieves the corresponding character from key, forming a new string.\n",
    "\n",
    "\n",
    "Finally, the print statement prints out the alphabet string. However, this line seems to be \n",
    "separate from the rest of the code and doesn't contribute to the encryption process. \n",
    "It may have been added for debugging purposes or testing."
   ]
  }
 ],
 "metadata": {
  "kernelspec": {
   "display_name": "Python 3 (ipykernel)",
   "language": "python",
   "name": "python3"
  },
  "language_info": {
   "codemirror_mode": {
    "name": "ipython",
    "version": 3
   },
   "file_extension": ".py",
   "mimetype": "text/x-python",
   "name": "python",
   "nbconvert_exporter": "python",
   "pygments_lexer": "ipython3",
   "version": "3.11.9"
  }
 },
 "nbformat": 4,
 "nbformat_minor": 5
}
