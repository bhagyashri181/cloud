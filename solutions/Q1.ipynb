{
 "cells": [
  {
   "cell_type": "code",
   "execution_count": 1,
   "id": "c7aae905-ebe5-486c-a0cc-573b6f6c91e4",
   "metadata": {},
   "outputs": [
    {
     "name": "stdout",
     "output_type": "stream",
     "text": [
      "[14, 84, 88, 93, 32, 19, 57, 99, 33, 86, 75, 26, 30, 95, 26, 2, 87, 9, 75, 17, 51, 72, 47, 69, 25, 35, 52, 47, 65, 41, 55, 33, 91, 63, 82, 93, 61, 56, 62, 36, 74, 8, 29, 89, 39, 57, 36, 86, 85, 17, 88, 76, 85, 95, 98, 96, 54, 10, 77, 54, 50, 30, 23, 8, 12, 49, 8, 34, 43, 68, 68, 21, 6, 44, 52, 75, 28, 46, 14, 45, 92, 53, 34, 43, 90, 11, 78, 64, 82, 36, 8, 62, 7, 52, 59, 97, 50, 36, 82, 50]\n"
     ]
    }
   ],
   "source": [
    "import random\n",
    "\n",
    "# generate 100 random numbers between 1 and 100\n",
    "random_numbers = [random.randint(1,100) for _ in range(100)]\n",
    "\n",
    "# print the list of random numbers\n",
    "print(random_numbers)"
   ]
  },
  {
   "cell_type": "code",
   "execution_count": 1,
   "id": "6cfc7d19-698b-443b-b730-f51a7e56e9f8",
   "metadata": {},
   "outputs": [
    {
     "name": "stdout",
     "output_type": "stream",
     "text": [
      "[1, 0, 1, 0, 1, 1, 0, 0, 0, 0, 0, 0, 1, 1, 1, 1, 0, 0, 1, 0, 1, 1, 1, 0, 1, 0, 0, 1, 1, 0, 1, 0, 0, 0, 1, 0, 0, 0, 1, 1, 1, 0, 0, 1, 0, 0, 0, 0, 0, 1, 1, 0, 0, 1, 1, 1, 1, 0, 1, 1, 1, 0, 0, 0, 0, 0, 0, 0, 1, 0, 1, 1, 0, 0, 0, 0, 1, 1, 1, 0, 1, 1, 1, 0, 0, 0, 1, 0, 1, 0, 0, 1, 0, 1, 0, 0, 0, 0, 0, 1]\n"
     ]
    }
   ],
   "source": [
    "import random\n",
    "random_list = []\n",
    "c=0\n",
    "max_count=0\n",
    "for i in range(100):\n",
    "   n = random.randint(0,1)\n",
    "   random_list.append(n)\n",
    "print(random_list)"
   ]
  },
  {
   "cell_type": "code",
   "execution_count": null,
   "id": "541d37ec-ce9f-41c4-b990-03e4a23b166b",
   "metadata": {},
   "outputs": [],
   "source": []
  }
 ],
 "metadata": {
  "kernelspec": {
   "display_name": "Python 3 (ipykernel)",
   "language": "python",
   "name": "python3"
  },
  "language_info": {
   "codemirror_mode": {
    "name": "ipython",
    "version": 3
   },
   "file_extension": ".py",
   "mimetype": "text/x-python",
   "name": "python",
   "nbconvert_exporter": "python",
   "pygments_lexer": "ipython3",
   "version": "3.11.9"
  }
 },
 "nbformat": 4,
 "nbformat_minor": 5
}
